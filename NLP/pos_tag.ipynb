{
 "cells": [
  {
   "cell_type": "markdown",
   "id": "160fd45c-b552-45d9-ae05-6bb00b0da75f",
   "metadata": {},
   "source": [
    "#### pos_tag refers to parts of speech tag, it's like identifying the category where the word belongs to."
   ]
  },
  {
   "cell_type": "markdown",
   "id": "0238b263-55c1-4e1f-bd88-5b98d2f30d52",
   "metadata": {},
   "source": [
    "| **Tag**  | **Meaning**                             | **Example**                |\n",
    "| -------- | --------------------------------------- | -------------------------- |\n",
    "| **CC**   | Coordinating conjunction                | and, but, or               |\n",
    "| **CD**   | Cardinal number                         | one, two, 3                |\n",
    "| **DT**   | Determiner                              | the, a, an, this           |\n",
    "| **EX**   | Existential “there”                     | there (is, are)            |\n",
    "| **FW**   | Foreign word                            | bonjour, danke             |\n",
    "| **IN**   | Preposition / subordinating conjunction | in, on, at, since, because |\n",
    "| **JJ**   | Adjective                               | big, beautiful             |\n",
    "| **JJR**  | Adjective, comparative                  | bigger, faster             |\n",
    "| **JJS**  | Adjective, superlative                  | biggest, fastest           |\n",
    "| **LS**   | List item marker                        | 1), A), (a)                |\n",
    "| **MD**   | Modal                                   | can, should, will          |\n",
    "| **NN**   | Noun, singular                          | cat, car                   |\n",
    "| **NNS**  | Noun, plural                            | cats, cars                 |\n",
    "| **NNP**  | Proper noun, singular                   | John, Canada               |\n",
    "| **NNPS** | Proper noun, plural                     | Americans, Canadians       |\n",
    "| **PDT**  | Predeterminer                           | all, both, half            |\n",
    "| **POS**  | Possessive ending                       | ’s                         |\n",
    "| **PRP**  | Personal pronoun                        | I, you, he, she, it        |\n",
    "| **PRP$** | Possessive pronoun                      | my, your, his              |\n",
    "| **RB**   | Adverb                                  | quickly, never             |\n",
    "| **RBR**  | Adverb, comparative                     | faster, better             |\n",
    "| **RBS**  | Adverb, superlative                     | fastest, best              |\n",
    "| **RP**   | Particle                                | up, off                    |\n",
    "| **SYM**  | Symbol                                  | $, %, +                    |\n",
    "| **TO**   | “to”                                    | to (as in *to go*)         |\n",
    "| **UH**   | Interjection                            | uh, wow, hey               |\n",
    "| **VB**   | Verb, base form                         | run, eat                   |\n",
    "| **VBD**  | Verb, past tense                        | ran, ate                   |\n",
    "| **VBG**  | Verb, gerund / present participle       | running, eating            |\n",
    "| **VBN**  | Verb, past participle                   | eaten, driven              |\n",
    "| **VBP**  | Verb, non-3rd person singular present   | run, eat                   |\n",
    "| **VBZ**  | Verb, 3rd person singular present       | runs, eats                 |\n",
    "| **WDT**  | Wh-determiner                           | which, that                |\n",
    "| **WP**   | Wh-pronoun                              | who, what                  |\n",
    "| **WP$**  | Possessive wh-pronoun                   | whose                      |\n",
    "| **WRB**  | Wh-adverb                               | where, when, why           |\n"
   ]
  },
  {
   "cell_type": "code",
   "execution_count": 9,
   "id": "612e3e61-f0e2-4a83-85d2-314dd178d00a",
   "metadata": {},
   "outputs": [
    {
     "name": "stdout",
     "output_type": "stream",
     "text": [
      "['Amir', 'is', 'very', 'deterministic', 'and', 'hard', 'working', 'guy', '.']\n"
     ]
    }
   ],
   "source": [
    "from nltk.tokenize import word_tokenize\n",
    "from nltk import pos_tag\n",
    "sentence = 'Amir is very deterministic and hard working guy.'\n",
    "words = word_tokenize(sentence)\n"
   ]
  },
  {
   "cell_type": "code",
   "execution_count": null,
   "id": "b97d9f10-c2aa-4d32-a3cd-c9cc7fb890e4",
   "metadata": {},
   "outputs": [],
   "source": []
  }
 ],
 "metadata": {
  "kernelspec": {
   "display_name": "Python 3 (ipykernel)",
   "language": "python",
   "name": "python3"
  },
  "language_info": {
   "codemirror_mode": {
    "name": "ipython",
    "version": 3
   },
   "file_extension": ".py",
   "mimetype": "text/x-python",
   "name": "python",
   "nbconvert_exporter": "python",
   "pygments_lexer": "ipython3",
   "version": "3.12.4"
  }
 },
 "nbformat": 4,
 "nbformat_minor": 5
}
