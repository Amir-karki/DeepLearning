{
 "cells": [
  {
   "cell_type": "code",
   "execution_count": 15,
   "id": "8ae1c30f-3c4b-448a-82e3-5ee48340ad40",
   "metadata": {},
   "outputs": [
    {
     "name": "stdout",
     "output_type": "stream",
     "text": [
      "Requirement already satisfied: gensim in c:\\users\\12368\\anaconda3\\lib\\site-packages (4.3.2)\n",
      "Collecting gensim\n",
      "  Downloading gensim-4.4.0-cp312-cp312-win_amd64.whl.metadata (8.6 kB)\n",
      "Requirement already satisfied: numpy>=1.18.5 in c:\\users\\12368\\anaconda3\\lib\\site-packages (from gensim) (1.26.4)\n",
      "Requirement already satisfied: scipy>=1.7.0 in c:\\users\\12368\\anaconda3\\lib\\site-packages (from gensim) (1.13.1)\n",
      "Requirement already satisfied: smart_open>=1.8.1 in c:\\users\\12368\\anaconda3\\lib\\site-packages (from gensim) (5.2.1)\n",
      "Downloading gensim-4.4.0-cp312-cp312-win_amd64.whl (24.4 MB)\n",
      "   ---------------------------------------- 0.0/24.4 MB ? eta -:--:--\n",
      "   ---------------------------------------- 0.0/24.4 MB 682.7 kB/s eta 0:00:36\n",
      "   ---------------------------------------- 0.1/24.4 MB 825.8 kB/s eta 0:00:30\n",
      "   ---------------------------------------- 0.2/24.4 MB 2.0 MB/s eta 0:00:13\n",
      "   --- ------------------------------------ 1.9/24.4 MB 12.2 MB/s eta 0:00:02\n",
      "   ------ --------------------------------- 3.7/24.4 MB 18.3 MB/s eta 0:00:02\n",
      "   -------- ------------------------------- 5.0/24.4 MB 19.9 MB/s eta 0:00:01\n",
      "   ----------- ---------------------------- 6.9/24.4 MB 23.2 MB/s eta 0:00:01\n",
      "   -------------- ------------------------- 8.6/24.4 MB 24.9 MB/s eta 0:00:01\n",
      "   ---------------- ----------------------- 10.2/24.4 MB 26.0 MB/s eta 0:00:01\n",
      "   ------------------- -------------------- 11.8/24.4 MB 36.4 MB/s eta 0:00:01\n",
      "   --------------------- ------------------ 13.3/24.4 MB 36.4 MB/s eta 0:00:01\n",
      "   ------------------------ --------------- 15.0/24.4 MB 36.4 MB/s eta 0:00:01\n",
      "   --------------------------- ------------ 16.6/24.4 MB 36.3 MB/s eta 0:00:01\n",
      "   ----------------------------- ---------- 18.2/24.4 MB 34.4 MB/s eta 0:00:01\n",
      "   -------------------------------- ------- 19.8/24.4 MB 34.6 MB/s eta 0:00:01\n",
      "   --------------------------------- ------ 20.6/24.4 MB 31.2 MB/s eta 0:00:01\n",
      "   ----------------------------------- ---- 21.9/24.4 MB 31.2 MB/s eta 0:00:01\n",
      "   -------------------------------------- - 23.3/24.4 MB 31.2 MB/s eta 0:00:01\n",
      "   ---------------------------------------  24.4/24.4 MB 31.2 MB/s eta 0:00:01\n",
      "   ---------------------------------------- 24.4/24.4 MB 28.4 MB/s eta 0:00:00\n",
      "Installing collected packages: gensim\n",
      "  Attempting uninstall: gensim\n",
      "    Found existing installation: gensim 4.3.2\n",
      "    Uninstalling gensim-4.3.2:\n",
      "      Successfully uninstalled gensim-4.3.2\n",
      "Successfully installed gensim-4.4.0\n"
     ]
    }
   ],
   "source": [
    "!pip install --upgrade gensim"
   ]
  },
  {
   "cell_type": "code",
   "execution_count": 17,
   "id": "baf47e27-abbd-4061-8a0a-83589b064f6b",
   "metadata": {},
   "outputs": [],
   "source": [
    "import gensim"
   ]
  },
  {
   "cell_type": "code",
   "execution_count": 19,
   "id": "824f0ac5-0a40-4d67-95d0-47276cbc3f67",
   "metadata": {},
   "outputs": [],
   "source": [
    "from gensim.models import Word2Vec, KeyedVectors"
   ]
  },
  {
   "cell_type": "code",
   "execution_count": null,
   "id": "12f6a63d-d44b-4f0d-a58e-a6f4a003be18",
   "metadata": {},
   "outputs": [
    {
     "name": "stdout",
     "output_type": "stream",
     "text": [
      "[--------------------------------------------------] 1.4% 23.4/1662.8MB downloaded"
     ]
    },
    {
     "name": "stderr",
     "output_type": "stream",
     "text": [
      "IOPub message rate exceeded.\n",
      "The Jupyter server will temporarily stop sending output\n",
      "to the client in order to avoid crashing it.\n",
      "To change this limit, set the config variable\n",
      "`--ServerApp.iopub_msg_rate_limit`.\n",
      "\n",
      "Current values:\n",
      "ServerApp.iopub_msg_rate_limit=1000.0 (msgs/sec)\n",
      "ServerApp.rate_limit_window=3.0 (secs)\n",
      "\n"
     ]
    },
    {
     "name": "stdout",
     "output_type": "stream",
     "text": [
      "[==------------------------------------------------] 4.2% 69.6/1662.8MB downloaded"
     ]
    },
    {
     "name": "stderr",
     "output_type": "stream",
     "text": [
      "IOPub message rate exceeded.\n",
      "The Jupyter server will temporarily stop sending output\n",
      "to the client in order to avoid crashing it.\n",
      "To change this limit, set the config variable\n",
      "`--ServerApp.iopub_msg_rate_limit`.\n",
      "\n",
      "Current values:\n",
      "ServerApp.iopub_msg_rate_limit=1000.0 (msgs/sec)\n",
      "ServerApp.rate_limit_window=3.0 (secs)\n",
      "\n"
     ]
    },
    {
     "name": "stdout",
     "output_type": "stream",
     "text": [
      "[===-----------------------------------------------] 7.0% 116.0/1662.8MB downloaded"
     ]
    },
    {
     "name": "stderr",
     "output_type": "stream",
     "text": [
      "IOPub message rate exceeded.\n",
      "The Jupyter server will temporarily stop sending output\n",
      "to the client in order to avoid crashing it.\n",
      "To change this limit, set the config variable\n",
      "`--ServerApp.iopub_msg_rate_limit`.\n",
      "\n",
      "Current values:\n",
      "ServerApp.iopub_msg_rate_limit=1000.0 (msgs/sec)\n",
      "ServerApp.rate_limit_window=3.0 (secs)\n",
      "\n"
     ]
    },
    {
     "name": "stdout",
     "output_type": "stream",
     "text": [
      "[====----------------------------------------------] 9.6% 159.4/1662.8MB downloaded"
     ]
    },
    {
     "name": "stderr",
     "output_type": "stream",
     "text": [
      "IOPub message rate exceeded.\n",
      "The Jupyter server will temporarily stop sending output\n",
      "to the client in order to avoid crashing it.\n",
      "To change this limit, set the config variable\n",
      "`--ServerApp.iopub_msg_rate_limit`.\n",
      "\n",
      "Current values:\n",
      "ServerApp.iopub_msg_rate_limit=1000.0 (msgs/sec)\n",
      "ServerApp.rate_limit_window=3.0 (secs)\n",
      "\n"
     ]
    },
    {
     "name": "stdout",
     "output_type": "stream",
     "text": [
      "[======--------------------------------------------] 12.3% 204.0/1662.8MB downloaded"
     ]
    },
    {
     "name": "stderr",
     "output_type": "stream",
     "text": [
      "IOPub message rate exceeded.\n",
      "The Jupyter server will temporarily stop sending output\n",
      "to the client in order to avoid crashing it.\n",
      "To change this limit, set the config variable\n",
      "`--ServerApp.iopub_msg_rate_limit`.\n",
      "\n",
      "Current values:\n",
      "ServerApp.iopub_msg_rate_limit=1000.0 (msgs/sec)\n",
      "ServerApp.rate_limit_window=3.0 (secs)\n",
      "\n"
     ]
    },
    {
     "name": "stdout",
     "output_type": "stream",
     "text": [
      "[=======-------------------------------------------] 15.3% 254.2/1662.8MB downloaded"
     ]
    },
    {
     "name": "stderr",
     "output_type": "stream",
     "text": [
      "IOPub message rate exceeded.\n",
      "The Jupyter server will temporarily stop sending output\n",
      "to the client in order to avoid crashing it.\n",
      "To change this limit, set the config variable\n",
      "`--ServerApp.iopub_msg_rate_limit`.\n",
      "\n",
      "Current values:\n",
      "ServerApp.iopub_msg_rate_limit=1000.0 (msgs/sec)\n",
      "ServerApp.rate_limit_window=3.0 (secs)\n",
      "\n"
     ]
    },
    {
     "name": "stdout",
     "output_type": "stream",
     "text": [
      "[=========-----------------------------------------] 18.1% 300.7/1662.8MB downloaded"
     ]
    },
    {
     "name": "stderr",
     "output_type": "stream",
     "text": [
      "IOPub message rate exceeded.\n",
      "The Jupyter server will temporarily stop sending output\n",
      "to the client in order to avoid crashing it.\n",
      "To change this limit, set the config variable\n",
      "`--ServerApp.iopub_msg_rate_limit`.\n",
      "\n",
      "Current values:\n",
      "ServerApp.iopub_msg_rate_limit=1000.0 (msgs/sec)\n",
      "ServerApp.rate_limit_window=3.0 (secs)\n",
      "\n"
     ]
    },
    {
     "name": "stdout",
     "output_type": "stream",
     "text": [
      "[==========----------------------------------------] 20.9% 347.1/1662.8MB downloaded"
     ]
    },
    {
     "name": "stderr",
     "output_type": "stream",
     "text": [
      "IOPub message rate exceeded.\n",
      "The Jupyter server will temporarily stop sending output\n",
      "to the client in order to avoid crashing it.\n",
      "To change this limit, set the config variable\n",
      "`--ServerApp.iopub_msg_rate_limit`.\n",
      "\n",
      "Current values:\n",
      "ServerApp.iopub_msg_rate_limit=1000.0 (msgs/sec)\n",
      "ServerApp.rate_limit_window=3.0 (secs)\n",
      "\n"
     ]
    },
    {
     "name": "stdout",
     "output_type": "stream",
     "text": [
      "[===========---------------------------------------] 23.9% 397.3/1662.8MB downloaded"
     ]
    },
    {
     "name": "stderr",
     "output_type": "stream",
     "text": [
      "IOPub message rate exceeded.\n",
      "The Jupyter server will temporarily stop sending output\n",
      "to the client in order to avoid crashing it.\n",
      "To change this limit, set the config variable\n",
      "`--ServerApp.iopub_msg_rate_limit`.\n",
      "\n",
      "Current values:\n",
      "ServerApp.iopub_msg_rate_limit=1000.0 (msgs/sec)\n",
      "ServerApp.rate_limit_window=3.0 (secs)\n",
      "\n"
     ]
    },
    {
     "name": "stdout",
     "output_type": "stream",
     "text": [
      "[=============-------------------------------------] 27.0% 449.4/1662.8MB downloaded"
     ]
    },
    {
     "name": "stderr",
     "output_type": "stream",
     "text": [
      "IOPub message rate exceeded.\n",
      "The Jupyter server will temporarily stop sending output\n",
      "to the client in order to avoid crashing it.\n",
      "To change this limit, set the config variable\n",
      "`--ServerApp.iopub_msg_rate_limit`.\n",
      "\n",
      "Current values:\n",
      "ServerApp.iopub_msg_rate_limit=1000.0 (msgs/sec)\n",
      "ServerApp.rate_limit_window=3.0 (secs)\n",
      "\n"
     ]
    },
    {
     "name": "stdout",
     "output_type": "stream",
     "text": [
      "[===============-----------------------------------] 30.1% 500.5/1662.8MB downloaded"
     ]
    },
    {
     "name": "stderr",
     "output_type": "stream",
     "text": [
      "IOPub message rate exceeded.\n",
      "The Jupyter server will temporarily stop sending output\n",
      "to the client in order to avoid crashing it.\n",
      "To change this limit, set the config variable\n",
      "`--ServerApp.iopub_msg_rate_limit`.\n",
      "\n",
      "Current values:\n",
      "ServerApp.iopub_msg_rate_limit=1000.0 (msgs/sec)\n",
      "ServerApp.rate_limit_window=3.0 (secs)\n",
      "\n"
     ]
    },
    {
     "name": "stdout",
     "output_type": "stream",
     "text": [
      "[================----------------------------------] 33.1% 550.8/1662.8MB downloaded"
     ]
    },
    {
     "name": "stderr",
     "output_type": "stream",
     "text": [
      "IOPub message rate exceeded.\n",
      "The Jupyter server will temporarily stop sending output\n",
      "to the client in order to avoid crashing it.\n",
      "To change this limit, set the config variable\n",
      "`--ServerApp.iopub_msg_rate_limit`.\n",
      "\n",
      "Current values:\n",
      "ServerApp.iopub_msg_rate_limit=1000.0 (msgs/sec)\n",
      "ServerApp.rate_limit_window=3.0 (secs)\n",
      "\n"
     ]
    },
    {
     "name": "stdout",
     "output_type": "stream",
     "text": [
      "[==================--------------------------------] 36.1% 600.0/1662.8MB downloaded"
     ]
    },
    {
     "name": "stderr",
     "output_type": "stream",
     "text": [
      "IOPub message rate exceeded.\n",
      "The Jupyter server will temporarily stop sending output\n",
      "to the client in order to avoid crashing it.\n",
      "To change this limit, set the config variable\n",
      "`--ServerApp.iopub_msg_rate_limit`.\n",
      "\n",
      "Current values:\n",
      "ServerApp.iopub_msg_rate_limit=1000.0 (msgs/sec)\n",
      "ServerApp.rate_limit_window=3.0 (secs)\n",
      "\n"
     ]
    },
    {
     "name": "stdout",
     "output_type": "stream",
     "text": [
      "[===================-------------------------------] 39.4% 654.5/1662.8MB downloaded"
     ]
    },
    {
     "name": "stderr",
     "output_type": "stream",
     "text": [
      "IOPub message rate exceeded.\n",
      "The Jupyter server will temporarily stop sending output\n",
      "to the client in order to avoid crashing it.\n",
      "To change this limit, set the config variable\n",
      "`--ServerApp.iopub_msg_rate_limit`.\n",
      "\n",
      "Current values:\n",
      "ServerApp.iopub_msg_rate_limit=1000.0 (msgs/sec)\n",
      "ServerApp.rate_limit_window=3.0 (secs)\n",
      "\n"
     ]
    },
    {
     "name": "stdout",
     "output_type": "stream",
     "text": [
      "[=====================-----------------------------] 42.6% 708.8/1662.8MB downloaded"
     ]
    },
    {
     "name": "stderr",
     "output_type": "stream",
     "text": [
      "IOPub message rate exceeded.\n",
      "The Jupyter server will temporarily stop sending output\n",
      "to the client in order to avoid crashing it.\n",
      "To change this limit, set the config variable\n",
      "`--ServerApp.iopub_msg_rate_limit`.\n",
      "\n",
      "Current values:\n",
      "ServerApp.iopub_msg_rate_limit=1000.0 (msgs/sec)\n",
      "ServerApp.rate_limit_window=3.0 (secs)\n",
      "\n"
     ]
    },
    {
     "name": "stdout",
     "output_type": "stream",
     "text": [
      "[======================----------------------------] 45.5% 757.4/1662.8MB downloaded"
     ]
    },
    {
     "name": "stderr",
     "output_type": "stream",
     "text": [
      "IOPub message rate exceeded.\n",
      "The Jupyter server will temporarily stop sending output\n",
      "to the client in order to avoid crashing it.\n",
      "To change this limit, set the config variable\n",
      "`--ServerApp.iopub_msg_rate_limit`.\n",
      "\n",
      "Current values:\n",
      "ServerApp.iopub_msg_rate_limit=1000.0 (msgs/sec)\n",
      "ServerApp.rate_limit_window=3.0 (secs)\n",
      "\n"
     ]
    },
    {
     "name": "stdout",
     "output_type": "stream",
     "text": [
      "[========================--------------------------] 48.3% 803.8/1662.8MB downloaded"
     ]
    },
    {
     "name": "stderr",
     "output_type": "stream",
     "text": [
      "IOPub message rate exceeded.\n",
      "The Jupyter server will temporarily stop sending output\n",
      "to the client in order to avoid crashing it.\n",
      "To change this limit, set the config variable\n",
      "`--ServerApp.iopub_msg_rate_limit`.\n",
      "\n",
      "Current values:\n",
      "ServerApp.iopub_msg_rate_limit=1000.0 (msgs/sec)\n",
      "ServerApp.rate_limit_window=3.0 (secs)\n",
      "\n"
     ]
    },
    {
     "name": "stdout",
     "output_type": "stream",
     "text": [
      "[=========================-------------------------] 50.6% 841.7/1662.8MB downloaded"
     ]
    },
    {
     "name": "stderr",
     "output_type": "stream",
     "text": [
      "IOPub message rate exceeded.\n",
      "The Jupyter server will temporarily stop sending output\n",
      "to the client in order to avoid crashing it.\n",
      "To change this limit, set the config variable\n",
      "`--ServerApp.iopub_msg_rate_limit`.\n",
      "\n",
      "Current values:\n",
      "ServerApp.iopub_msg_rate_limit=1000.0 (msgs/sec)\n",
      "ServerApp.rate_limit_window=3.0 (secs)\n",
      "\n"
     ]
    },
    {
     "name": "stdout",
     "output_type": "stream",
     "text": [
      "[==========================------------------------] 52.7% 876.8/1662.8MB downloaded"
     ]
    },
    {
     "name": "stderr",
     "output_type": "stream",
     "text": [
      "IOPub message rate exceeded.\n",
      "The Jupyter server will temporarily stop sending output\n",
      "to the client in order to avoid crashing it.\n",
      "To change this limit, set the config variable\n",
      "`--ServerApp.iopub_msg_rate_limit`.\n",
      "\n",
      "Current values:\n",
      "ServerApp.iopub_msg_rate_limit=1000.0 (msgs/sec)\n",
      "ServerApp.rate_limit_window=3.0 (secs)\n",
      "\n"
     ]
    },
    {
     "name": "stdout",
     "output_type": "stream",
     "text": [
      "[===========================-----------------------] 54.8% 910.8/1662.8MB downloaded"
     ]
    },
    {
     "name": "stderr",
     "output_type": "stream",
     "text": [
      "IOPub message rate exceeded.\n",
      "The Jupyter server will temporarily stop sending output\n",
      "to the client in order to avoid crashing it.\n",
      "To change this limit, set the config variable\n",
      "`--ServerApp.iopub_msg_rate_limit`.\n",
      "\n",
      "Current values:\n",
      "ServerApp.iopub_msg_rate_limit=1000.0 (msgs/sec)\n",
      "ServerApp.rate_limit_window=3.0 (secs)\n",
      "\n"
     ]
    },
    {
     "name": "stdout",
     "output_type": "stream",
     "text": [
      "[============================----------------------] 57.6% 957.3/1662.8MB downloaded"
     ]
    },
    {
     "name": "stderr",
     "output_type": "stream",
     "text": [
      "IOPub message rate exceeded.\n",
      "The Jupyter server will temporarily stop sending output\n",
      "to the client in order to avoid crashing it.\n",
      "To change this limit, set the config variable\n",
      "`--ServerApp.iopub_msg_rate_limit`.\n",
      "\n",
      "Current values:\n",
      "ServerApp.iopub_msg_rate_limit=1000.0 (msgs/sec)\n",
      "ServerApp.rate_limit_window=3.0 (secs)\n",
      "\n"
     ]
    },
    {
     "name": "stdout",
     "output_type": "stream",
     "text": [
      "[=============================---------------------] 59.3% 986.6/1662.8MB downloaded"
     ]
    }
   ],
   "source": [
    "import gensim.downloader as api\n",
    "wv = api.load('word2vec-google-news-300')\n"
   ]
  },
  {
   "cell_type": "code",
   "execution_count": 24,
   "id": "29b19c35-d6c6-40d7-8e28-49ba5b98ce94",
   "metadata": {},
   "outputs": [
    {
     "ename": "NameError",
     "evalue": "name 'ServerApp' is not defined",
     "output_type": "error",
     "traceback": [
      "\u001b[1;31m---------------------------------------------------------------------------\u001b[0m",
      "\u001b[1;31mNameError\u001b[0m                                 Traceback (most recent call last)",
      "Cell \u001b[1;32mIn[24], line 1\u001b[0m\n\u001b[1;32m----> 1\u001b[0m \u001b[43mServerApp\u001b[49m\u001b[38;5;241m.\u001b[39miopub_msg_rate_limit\u001b[38;5;241m=\u001b[39m\u001b[38;5;241m10000\u001b[39m\n",
      "\u001b[1;31mNameError\u001b[0m: name 'ServerApp' is not defined"
     ]
    }
   ],
   "source": []
  },
  {
   "cell_type": "code",
   "execution_count": 22,
   "id": "f782d915-4a1e-4a6c-b89f-9ee1fe1cff19",
   "metadata": {},
   "outputs": [],
   "source": [
    "vec_king = wv['king']"
   ]
  },
  {
   "cell_type": "code",
   "execution_count": 26,
   "id": "8f34ca18-e176-4a70-90d1-541a36401f0f",
   "metadata": {},
   "outputs": [
    {
     "data": {
      "text/plain": [
       "(300,)"
      ]
     },
     "execution_count": 26,
     "metadata": {},
     "output_type": "execute_result"
    }
   ],
   "source": [
    "vec_king.shape"
   ]
  },
  {
   "cell_type": "code",
   "execution_count": 28,
   "id": "7b51e2ff-208d-4904-8a46-2f217e4f33c5",
   "metadata": {},
   "outputs": [
    {
     "data": {
      "text/plain": [
       "array([-9.76562500e-02,  3.19824219e-02,  2.57812500e-01, -4.15039062e-02,\n",
       "        1.01562500e-01, -1.00585938e-01,  1.46484375e-01, -1.99218750e-01,\n",
       "        1.53320312e-01,  6.34765625e-02,  8.39843750e-02, -3.00781250e-01,\n",
       "        6.34765625e-02,  2.08984375e-01, -2.11914062e-01,  1.88476562e-01,\n",
       "       -8.34960938e-02,  3.28125000e-01,  2.79296875e-01, -1.40625000e-01,\n",
       "       -1.68945312e-01,  2.04101562e-01,  4.90722656e-02, -6.98852539e-03,\n",
       "        9.42382812e-02,  9.84191895e-04,  3.12500000e-02,  2.48046875e-01,\n",
       "        3.35937500e-01,  2.63671875e-01,  5.68847656e-02,  3.04687500e-01,\n",
       "        1.21582031e-01, -1.97265625e-01,  1.72119141e-02,  9.96093750e-02,\n",
       "        2.27539062e-01, -1.20605469e-01,  1.23535156e-01,  3.78906250e-01,\n",
       "        2.36816406e-02, -1.86523438e-01,  6.29882812e-02,  1.52343750e-01,\n",
       "        3.73535156e-02, -1.69921875e-01,  1.06445312e-01, -4.98046875e-02,\n",
       "       -6.20117188e-02,  1.68945312e-01,  4.41894531e-02,  2.78320312e-02,\n",
       "       -1.10839844e-01,  4.49218750e-02,  2.78320312e-02, -4.45312500e-01,\n",
       "        3.49121094e-02, -6.22558594e-02, -3.93066406e-02, -2.01171875e-01,\n",
       "       -3.04687500e-01, -1.00585938e-01, -1.64062500e-01,  1.52343750e-01,\n",
       "        1.10351562e-01, -1.53320312e-01, -7.12890625e-02,  7.95898438e-02,\n",
       "        1.87500000e-01,  6.88476562e-02,  2.44140625e-01, -6.56127930e-04,\n",
       "       -1.91406250e-01,  3.49121094e-02,  1.97753906e-02, -5.41992188e-02,\n",
       "        3.32031250e-02, -2.08007812e-01,  9.86328125e-02, -1.90429688e-01,\n",
       "       -6.07910156e-02, -2.07031250e-01, -2.18505859e-02,  8.78906250e-02,\n",
       "        2.08984375e-01, -2.36328125e-01, -9.17968750e-02,  2.26562500e-01,\n",
       "       -3.93066406e-02,  9.13085938e-02,  1.13525391e-02, -1.55273438e-01,\n",
       "        6.78710938e-02, -4.90722656e-02,  2.51770020e-03, -4.66308594e-02,\n",
       "        9.17968750e-02,  1.05957031e-01,  2.10937500e-01,  4.24804688e-02,\n",
       "       -4.95605469e-02,  1.76757812e-01,  3.32031250e-01, -4.22363281e-02,\n",
       "        2.03125000e-01,  2.98828125e-01,  1.21093750e-01, -4.85839844e-02,\n",
       "       -1.41601562e-01, -2.51953125e-01, -2.20703125e-01,  2.23632812e-01,\n",
       "        2.22167969e-02,  1.09375000e-01,  3.14453125e-01,  3.71093750e-01,\n",
       "       -4.83398438e-02,  2.77343750e-01,  1.27563477e-02, -9.61914062e-02,\n",
       "       -2.03125000e-01, -1.55273438e-01,  1.10351562e-01, -6.54296875e-02,\n",
       "       -2.75390625e-01, -2.34375000e-01, -3.78906250e-01, -8.30078125e-02,\n",
       "       -1.25000000e-01, -1.40625000e-01, -9.27734375e-03, -4.21875000e-01,\n",
       "       -1.17187500e-01, -2.41210938e-01,  3.44238281e-02,  5.34057617e-03,\n",
       "       -2.98828125e-01,  3.45703125e-01, -6.54296875e-02,  5.54199219e-02,\n",
       "       -5.17578125e-02, -1.12792969e-01,  2.01171875e-01,  2.97851562e-02,\n",
       "        1.05468750e-01,  2.75390625e-01,  1.02050781e-01, -1.66992188e-01,\n",
       "       -7.08007812e-02, -2.96875000e-01,  1.50390625e-01,  2.94921875e-01,\n",
       "       -1.97265625e-01,  4.85839844e-02, -4.27734375e-01,  1.55639648e-02,\n",
       "        1.20605469e-01, -1.70898438e-01,  6.68945312e-02, -1.50390625e-01,\n",
       "       -5.27343750e-02,  6.49414062e-02,  3.78417969e-02,  1.74560547e-02,\n",
       "        1.44531250e-01, -1.47460938e-01,  1.07421875e-01, -1.96289062e-01,\n",
       "       -5.20019531e-02, -6.29882812e-02, -1.71875000e-01,  2.25830078e-02,\n",
       "       -5.27954102e-03, -1.22558594e-01, -6.25000000e-02,  8.85009766e-04,\n",
       "        1.84326172e-02,  1.12792969e-01, -1.11328125e-01,  1.00731850e-05,\n",
       "        2.41210938e-01,  6.64062500e-02, -2.45361328e-02,  1.89208984e-02,\n",
       "       -1.83105469e-02,  3.06640625e-01,  1.83105469e-02, -3.85742188e-02,\n",
       "        1.81640625e-01,  2.27355957e-03,  1.45507812e-01,  6.73828125e-02,\n",
       "       -1.68457031e-02,  1.87500000e-01, -1.21093750e-01,  2.17285156e-02,\n",
       "        1.29882812e-01,  1.55273438e-01, -7.81250000e-02,  5.05371094e-02,\n",
       "       -7.66601562e-02, -1.18164062e-01,  4.51660156e-02, -3.71093750e-02,\n",
       "        2.48046875e-01, -3.10546875e-01,  1.98242188e-01, -2.37304688e-01,\n",
       "       -2.18505859e-02, -9.76562500e-02, -1.08032227e-02,  1.69921875e-01,\n",
       "        1.13769531e-01, -5.17578125e-02, -1.94335938e-01,  9.47265625e-02,\n",
       "        1.28906250e-01,  2.05078125e-02, -2.77343750e-01, -8.69140625e-02,\n",
       "        1.26342773e-02, -4.57031250e-01, -1.33789062e-01, -8.15429688e-02,\n",
       "        2.89062500e-01,  1.89453125e-01,  1.62109375e-01, -1.64794922e-02,\n",
       "        3.75366211e-03, -1.38671875e-01, -1.04980469e-01, -1.20117188e-01,\n",
       "       -1.13525391e-02,  5.15136719e-02,  4.68750000e-02, -8.93554688e-02,\n",
       "        2.56347656e-02, -2.77343750e-01,  1.05468750e-01, -1.03027344e-01,\n",
       "        2.07031250e-01, -1.67968750e-01,  1.99218750e-01,  1.67236328e-02,\n",
       "       -1.80664062e-01,  1.06445312e-01, -3.39843750e-01, -5.81054688e-02,\n",
       "       -3.35937500e-01,  4.39453125e-02,  8.59375000e-02,  4.44335938e-02,\n",
       "        2.74658203e-03,  1.70898438e-01,  7.42187500e-02, -3.06396484e-02,\n",
       "       -7.86132812e-02,  5.03540039e-03, -1.16699219e-01,  3.18359375e-01,\n",
       "        2.63671875e-01, -9.47265625e-02,  1.21582031e-01,  1.52343750e-01,\n",
       "       -2.33398438e-01,  3.84765625e-01, -1.13281250e-01,  4.15039062e-02,\n",
       "       -2.20703125e-01,  1.05590820e-02, -3.41796875e-02,  7.56835938e-02,\n",
       "       -2.36328125e-01, -6.98242188e-02,  3.03955078e-02, -2.00195312e-01,\n",
       "        1.74804688e-01, -1.57226562e-01, -3.95507812e-02, -2.69531250e-01,\n",
       "       -1.11816406e-01,  1.04980469e-01,  1.14746094e-01, -2.47955322e-04,\n",
       "       -1.42578125e-01, -1.63085938e-01, -2.63671875e-01,  1.44531250e-01,\n",
       "        1.63085938e-01,  2.19726562e-02, -2.06054688e-01, -3.17382812e-02,\n",
       "       -1.56250000e-01, -1.09375000e-01,  4.57031250e-01,  2.71484375e-01,\n",
       "        6.12792969e-02,  2.01416016e-03, -1.21582031e-01,  1.58203125e-01],\n",
       "      dtype=float32)"
      ]
     },
     "execution_count": 28,
     "metadata": {},
     "output_type": "execute_result"
    }
   ],
   "source": [
    "wv['football']"
   ]
  },
  {
   "cell_type": "code",
   "execution_count": 30,
   "id": "217df2c3-6cef-4a9b-bdf1-008511f0208b",
   "metadata": {},
   "outputs": [
    {
     "data": {
      "text/plain": [
       "[('soccer', 0.731354832649231),\n",
       " ('fooball', 0.7139959335327148),\n",
       " ('Football', 0.7124834060668945),\n",
       " ('basketball', 0.668246865272522),\n",
       " ('footbal', 0.6649289727210999),\n",
       " ('athletics', 0.6265192627906799),\n",
       " ('gridiron', 0.6191604733467102),\n",
       " ('baseball', 0.6162000894546509),\n",
       " ('footballl', 0.6069177389144897),\n",
       " ('sports', 0.5927178859710693)]"
      ]
     },
     "execution_count": 30,
     "metadata": {},
     "output_type": "execute_result"
    }
   ],
   "source": [
    "wv.most_similar('football')"
   ]
  },
  {
   "cell_type": "code",
   "execution_count": 32,
   "id": "0a929cab-2fcd-4b63-a118-c9a63f52b9bd",
   "metadata": {},
   "outputs": [
    {
     "data": {
      "text/plain": [
       "[('Soul_Calibur_Broken', 0.5589576959609985),\n",
       " ('Asheron_Call_Throne', 0.5210553407669067),\n",
       " ('Angelic', 0.4960957467556),\n",
       " ('Girlz_Connect', 0.48635363578796387),\n",
       " ('Harmony', 0.4776124954223633),\n",
       " ('Velious', 0.4544889032840729),\n",
       " ('Inuyasha_Secret', 0.45154672861099243),\n",
       " ('Pussycat_Dolls_Jai_Ho', 0.44762131571769714),\n",
       " ('Mercedes_McNab', 0.44627493619918823),\n",
       " ('Tiara', 0.43563342094421387)]"
      ]
     },
     "execution_count": 32,
     "metadata": {},
     "output_type": "execute_result"
    }
   ],
   "source": [
    "wv.most_similar('Destiny')"
   ]
  },
  {
   "cell_type": "code",
   "execution_count": 36,
   "id": "b645d121-a5c2-4ef0-a87e-ce467bc739e3",
   "metadata": {},
   "outputs": [
    {
     "data": {
      "text/plain": [
       "0.8209548"
      ]
     },
     "execution_count": 36,
     "metadata": {},
     "output_type": "execute_result"
    }
   ],
   "source": [
    "wv.similarity(\"Messi\", \"Ronaldo\")"
   ]
  },
  {
   "cell_type": "code",
   "execution_count": 38,
   "id": "a53e0a12-8a6a-442d-b4d7-61ac08e60597",
   "metadata": {},
   "outputs": [],
   "source": [
    "new_vec = wv['King'] - wv['Man'] + wv['Woman']"
   ]
  },
  {
   "cell_type": "code",
   "execution_count": 40,
   "id": "a18323b6-9a3c-43ea-b55f-fc89aa49f6b0",
   "metadata": {},
   "outputs": [
    {
     "data": {
      "text/plain": [
       "[('King', 0.5864337682723999),\n",
       " ('Woman', 0.4632061719894409),\n",
       " ('Queen', 0.4424014389514923),\n",
       " ('Adrianna_Sgarlata', 0.42792919278144836),\n",
       " ('Daughters', 0.41669827699661255),\n",
       " ('R._Grealy', 0.4130113124847412),\n",
       " ('Canzater', 0.4127107560634613),\n",
       " ('Oprah_BFF_Gayle', 0.404864102602005),\n",
       " ('Ida_Vandross', 0.4038771688938141),\n",
       " ('Jalonick', 0.4024905562400818)]"
      ]
     },
     "execution_count": 40,
     "metadata": {},
     "output_type": "execute_result"
    }
   ],
   "source": [
    "wv.most_similar([new_vec])"
   ]
  },
  {
   "cell_type": "code",
   "execution_count": null,
   "id": "67e5e929-4d3f-44a7-8084-9718b8d97730",
   "metadata": {},
   "outputs": [],
   "source": []
  }
 ],
 "metadata": {
  "kernelspec": {
   "display_name": "Python 3 (ipykernel)",
   "language": "python",
   "name": "python3"
  },
  "language_info": {
   "codemirror_mode": {
    "name": "ipython",
    "version": 3
   },
   "file_extension": ".py",
   "mimetype": "text/x-python",
   "name": "python",
   "nbconvert_exporter": "python",
   "pygments_lexer": "ipython3",
   "version": "3.12.4"
  }
 },
 "nbformat": 4,
 "nbformat_minor": 5
}
