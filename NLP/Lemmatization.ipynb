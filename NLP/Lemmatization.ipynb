{
 "cells": [
  {
   "cell_type": "markdown",
   "id": "c5e4c4ca-e524-465f-af67-eb2b9c44eef6",
   "metadata": {},
   "source": [
    "#### Lemmatization technique is like stemming except that the word we get here is the root word instead of stem word"
   ]
  },
  {
   "cell_type": "code",
   "execution_count": 26,
   "id": "84423511-bf5e-4179-a1c6-39bf19c77c5a",
   "metadata": {},
   "outputs": [],
   "source": [
    "# for this, we use WordNetLemmatizer\n",
    "from nltk.stem import WordNetLemmatizer"
   ]
  },
  {
   "cell_type": "code",
   "execution_count": 32,
   "id": "cd4251f5-da5a-439f-855d-211b2a24efad",
   "metadata": {},
   "outputs": [
    {
     "name": "stderr",
     "output_type": "stream",
     "text": [
      "[nltk_data] Downloading package wordnet to\n",
      "[nltk_data]     C:\\Users\\12368\\AppData\\Roaming\\nltk_data...\n"
     ]
    },
    {
     "data": {
      "text/plain": [
       "True"
      ]
     },
     "execution_count": 32,
     "metadata": {},
     "output_type": "execute_result"
    }
   ],
   "source": [
    "import nltk\n",
    "nltk.download('wordnet')"
   ]
  },
  {
   "cell_type": "code",
   "execution_count": 34,
   "id": "4c3481a4-721c-40b8-bb3c-2a2d6e4cb883",
   "metadata": {},
   "outputs": [
    {
     "data": {
      "text/plain": [
       "'playing'"
      ]
     },
     "execution_count": 34,
     "metadata": {},
     "output_type": "execute_result"
    }
   ],
   "source": [
    "lemmatizer = WordNetLemmatizer()\n",
    "lemmatizer.lemmatize('playing')"
   ]
  },
  {
   "cell_type": "markdown",
   "id": "d44070bd-5940-42a3-b6dc-b9a485b7f31f",
   "metadata": {},
   "source": [
    "'''\n",
    "lemmatize takes two arguments(word, pos) | pos has 4 options: n -> Nouns, v -> Verbs, a -> Adjectives and r -> adverbs\n",
    "'''"
   ]
  },
  {
   "cell_type": "code",
   "execution_count": 40,
   "id": "a6e705a5-0442-45d8-804c-241ed3c99ae2",
   "metadata": {},
   "outputs": [
    {
     "data": {
      "text/plain": [
       "('studying', 'study')"
      ]
     },
     "execution_count": 40,
     "metadata": {},
     "output_type": "execute_result"
    }
   ],
   "source": [
    "lemmatizer.lemmatize('studying', pos='n'), lemmatizer.lemmatize('studying', pos='v')"
   ]
  },
  {
   "cell_type": "markdown",
   "id": "918faf31-e8b4-4628-9a5e-69d89e408b88",
   "metadata": {},
   "source": [
    "Since noun's root is noun, Nouns cannot be lemmatized. However, verbs are the ones that can be lemmatized the most. Let's look a"
   ]
  }
 ],
 "metadata": {
  "kernelspec": {
   "display_name": "Python 3 (ipykernel)",
   "language": "python",
   "name": "python3"
  },
  "language_info": {
   "codemirror_mode": {
    "name": "ipython",
    "version": 3
   },
   "file_extension": ".py",
   "mimetype": "text/x-python",
   "name": "python",
   "nbconvert_exporter": "python",
   "pygments_lexer": "ipython3",
   "version": "3.12.4"
  }
 },
 "nbformat": 4,
 "nbformat_minor": 5
}
