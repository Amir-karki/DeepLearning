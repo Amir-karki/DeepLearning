{
 "cells": [
  {
   "cell_type": "code",
   "execution_count": null,
   "id": "d4c6e6d3-eb05-490d-a190-bbc966429b22",
   "metadata": {},
   "outputs": [
    {
     "name": "stdout",
     "output_type": "stream",
     "text": [
      "Requirement already satisfied: nltk in c:\\users\\12368\\anaconda3\\lib\\site-packages (3.8.1)\n",
      "Requirement already satisfied: click in c:\\users\\12368\\anaconda3\\lib\\site-packages (from nltk) (8.1.7)\n",
      "Requirement already satisfied: joblib in c:\\users\\12368\\anaconda3\\lib\\site-packages (from nltk) (1.4.2)\n",
      "Requirement already satisfied: regex>=2021.8.3 in c:\\users\\12368\\anaconda3\\lib\\site-packages (from nltk) (2023.10.3)\n",
      "Requirement already satisfied: tqdm in c:\\users\\12368\\anaconda3\\lib\\site-packages (from nltk) (4.66.4)\n",
      "Requirement already satisfied: colorama in c:\\users\\12368\\appdata\\roaming\\python\\python312\\site-packages (from click->nltk) (0.4.6)\n"
     ]
    }
   ],
   "source": [
    "!pip install nltk"
   ]
  },
  {
   "cell_type": "code",
   "execution_count": null,
   "id": "a683d27c-e951-45fb-9797-fac222fd2fb5",
   "metadata": {},
   "outputs": [],
   "source": [
    "corpus = \"\"\"The difference between TCP and UDP are:\n",
    "TCP's are connection-oriented, where acknowledgments are received.\n",
    "UDP's are connectionless, where no acknowledgments are received at sender side.\"\"\""
   ]
  },
  {
   "cell_type": "code",
   "execution_count": null,
   "id": "751e188d-7099-41b4-842e-084ce3b57e5f",
   "metadata": {},
   "outputs": [
    {
     "name": "stdout",
     "output_type": "stream",
     "text": [
      "The difference between TCP and UDP are:\n",
      "TCP's are connection-oriented, where acknowledgments are received.\n",
      "UDP's are connectionless, where no acknowledgments are received at sender side.\n"
     ]
    }
   ],
   "source": [
    "print(corpus)"
   ]
  },
  {
   "cell_type": "code",
   "execution_count": null,
   "id": "72e41016-51fb-4a8f-83c0-ff799956f5fd",
   "metadata": {},
   "outputs": [],
   "source": [
    "# Tokenization: process of converting Sentences -> Paragraphs"
   ]
  },
  {
   "cell_type": "code",
   "execution_count": null,
   "id": "3796a8e2-a755-4913-9634-fba2237568fa",
   "metadata": {},
   "outputs": [
    {
     "data": {
      "text/plain": [
       "[\"The difference between TCP and UDP are:\\nTCP's are connection-oriented, where acknowledgments are received.\",\n",
       " \"UDP's are connectionless, where no acknowledgments are received at sender side.\"]"
      ]
     },
     "execution_count": 26,
     "metadata": {},
     "output_type": "execute_result"
    }
   ],
   "source": [
    "from nltk.tokenize import sent_tokenize\n",
    "# sent_tokenize(corpus)"
   ]
  },
  {
   "cell_type": "code",
   "execution_count": null,
   "id": "734d0c10-7a19-455f-a7d0-62a79fa9c2fe",
   "metadata": {},
   "outputs": [],
   "source": [
    "\n",
    "documents = sent_tokenize(corpus)"
   ]
  },
  {
   "cell_type": "code",
   "execution_count": null,
   "id": "5779dcce-bfdf-492f-b123-bcb1db9238f6",
   "metadata": {},
   "outputs": [
    {
     "name": "stdout",
     "output_type": "stream",
     "text": [
      "[\"The difference between TCP and UDP are:\\nTCP's are connection-oriented, where acknowledgments are received.\", \"UDP's are connectionless, where no acknowledgments are received at sender side.\"]\n"
     ]
    }
   ],
   "source": [
    "print(documents)"
   ]
  },
  {
   "cell_type": "code",
   "execution_count": null,
   "id": "6317aea8-5e25-4fe1-ad46-9785093fc5a3",
   "metadata": {},
   "outputs": [
    {
     "name": "stdout",
     "output_type": "stream",
     "text": [
      "The difference between TCP and UDP are:\n",
      "TCP's are connection-oriented, where acknowledgments are received.\n",
      "UDP's are connectionless, where no acknowledgments are received at sender side.\n"
     ]
    }
   ],
   "source": [
    "for sentence in documents:\n",
    "    print(sentence)"
   ]
  },
  {
   "cell_type": "code",
   "execution_count": null,
   "id": "957fc26b-a214-4a23-b52c-576c8ce50942",
   "metadata": {},
   "outputs": [
    {
     "data": {
      "text/plain": [
       "['The',\n",
       " 'difference',\n",
       " 'between',\n",
       " 'TCP',\n",
       " 'and',\n",
       " 'UDP',\n",
       " 'are',\n",
       " ':',\n",
       " 'TCP',\n",
       " \"'s\",\n",
       " 'are',\n",
       " 'connection-oriented',\n",
       " ',',\n",
       " 'where',\n",
       " 'acknowledgments',\n",
       " 'are',\n",
       " 'received',\n",
       " '.',\n",
       " 'UDP',\n",
       " \"'s\",\n",
       " 'are',\n",
       " 'connectionless',\n",
       " ',',\n",
       " 'where',\n",
       " 'no',\n",
       " 'acknowledgments',\n",
       " 'are',\n",
       " 'received',\n",
       " 'at',\n",
       " 'sender',\n",
       " 'side',\n",
       " '.']"
      ]
     },
     "execution_count": 48,
     "metadata": {},
     "output_type": "execute_result"
    }
   ],
   "source": [
    "# Tokenization: Corpus -> words\n",
    "from nltk.tokenize import word_tokenize\n",
    "word_tokenize(corpus)"
   ]
  },
  {
   "cell_type": "markdown",
   "id": "8c88c882-efcb-4394-9174-732aff43b828",
   "metadata": {},
   "source": [
    "#### As we can see here, the punctuations like \"'\" are not tokenized. If we want to tokenize punctions as well, we have another function called wordpunct_tokenize"
   ]
  },
  {
   "cell_type": "code",
   "execution_count": null,
   "id": "e5476161-c208-4fa7-978e-5246fc39fa4d",
   "metadata": {},
   "outputs": [
    {
     "name": "stdout",
     "output_type": "stream",
     "text": [
      "32\n"
     ]
    }
   ],
   "source": [
    "print(len(word_tokenize(corpus)))"
   ]
  },
  {
   "cell_type": "code",
   "execution_count": null,
   "id": "0ac3c334-7194-41b3-a9a6-b134982328c8",
   "metadata": {},
   "outputs": [
    {
     "data": {
      "text/plain": [
       "['The',\n",
       " 'difference',\n",
       " 'between',\n",
       " 'TCP',\n",
       " 'and',\n",
       " 'UDP',\n",
       " 'are',\n",
       " ':',\n",
       " 'TCP',\n",
       " \"'\",\n",
       " 's',\n",
       " 'are',\n",
       " 'connection',\n",
       " '-',\n",
       " 'oriented',\n",
       " ',',\n",
       " 'where',\n",
       " 'acknowledgments',\n",
       " 'are',\n",
       " 'received',\n",
       " '.',\n",
       " 'UDP',\n",
       " \"'\",\n",
       " 's',\n",
       " 'are',\n",
       " 'connectionless',\n",
       " ',',\n",
       " 'where',\n",
       " 'no',\n",
       " 'acknowledgments',\n",
       " 'are',\n",
       " 'received',\n",
       " 'at',\n",
       " 'sender',\n",
       " 'side',\n",
       " '.']"
      ]
     },
     "execution_count": 55,
     "metadata": {},
     "output_type": "execute_result"
    }
   ],
   "source": [
    "from nltk.tokenize import wordpunct_tokenize\n",
    "wordpunct_tokenize(corpus)"
   ]
  },
  {
   "cell_type": "code",
   "execution_count": null,
   "id": "a030ee14-8157-4799-a2c5-2000463a1b4c",
   "metadata": {},
   "outputs": [
    {
     "name": "stdout",
     "output_type": "stream",
     "text": [
      "36\n"
     ]
    }
   ],
   "source": [
    "print(len(wordpunct_tokenize(corpus)))"
   ]
  },
  {
   "cell_type": "code",
   "execution_count": null,
   "id": "0e1e5d61-530e-4226-ac18-a163c4ef6e4d",
   "metadata": {},
   "outputs": [
    {
     "data": {
      "text/plain": [
       "['The',\n",
       " 'difference',\n",
       " 'between',\n",
       " 'TCP',\n",
       " 'and',\n",
       " 'UDP',\n",
       " 'are',\n",
       " ':',\n",
       " 'TCP',\n",
       " \"'s\",\n",
       " 'are',\n",
       " 'connection-oriented',\n",
       " ',',\n",
       " 'where',\n",
       " 'acknowledgments',\n",
       " 'are',\n",
       " 'received.',\n",
       " 'UDP',\n",
       " \"'s\",\n",
       " 'are',\n",
       " 'connectionless',\n",
       " ',',\n",
       " 'where',\n",
       " 'no',\n",
       " 'acknowledgments',\n",
       " 'are',\n",
       " 'received',\n",
       " 'at',\n",
       " 'sender',\n",
       " 'side',\n",
       " '.']"
      ]
     },
     "execution_count": 69,
     "metadata": {},
     "output_type": "execute_result"
    }
   ],
   "source": [
    "from nltk.tokenize import TreebankWordTokenizer\n",
    "tokenizer = TreebankWordTokenizer()\n",
    "tokenizer.tokenize(corpus)"
   ]
  },
  {
   "cell_type": "code",
   "execution_count": null,
   "id": "3dc51236-00c7-4b56-998c-02f21452fefb",
   "metadata": {},
   "outputs": [
    {
     "name": "stdout",
     "output_type": "stream",
     "text": [
      "31\n"
     ]
    }
   ],
   "source": [
    "print(len(tokenizer.tokenize(corpus)))"
   ]
  },
  {
   "cell_type": "code",
   "execution_count": null,
   "id": "42f34acd-fbcf-436a-96f4-d038665abb53",
   "metadata": {},
   "outputs": [],
   "source": []
  }
 ],
 "metadata": {
  "kernelspec": {
   "display_name": "base",
   "language": "python",
   "name": "python3"
  },
  "language_info": {
   "codemirror_mode": {
    "name": "ipython",
    "version": 3
   },
   "file_extension": ".py",
   "mimetype": "text/x-python",
   "name": "python",
   "nbconvert_exporter": "python",
   "pygments_lexer": "ipython3",
   "version": "3.12.4"
  }
 },
 "nbformat": 4,
 "nbformat_minor": 5
}
